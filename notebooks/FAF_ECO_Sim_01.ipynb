{
  "nbformat": 4,
  "nbformat_minor": 0,
  "metadata": {
    "colab": {
      "provenance": []
    },
    "kernelspec": {
      "name": "python3",
      "display_name": "Python 3"
    },
    "language_info": {
      "name": "python"
    }
  },
  "cells": [
    {
      "cell_type": "code",
      "execution_count": null,
      "metadata": {
        "colab": {
          "base_uri": "https://localhost:8080/"
        },
        "id": "N9ySGUACLnVc",
        "outputId": "51c5f4db-60eb-484b-f566-b187575dd2c2"
      },
      "outputs": [
        {
          "output_type": "stream",
          "name": "stdout",
          "text": [
            "Collecting mict\n",
            "  Cloning https://github.com/jerzydziewierz/mict.git to /tmp/pip-install-e6j5x3d_/mict_2e6163b385c344a7b68c9d6ffaca1ace\n",
            "  Running command git clone --filter=blob:none --quiet https://github.com/jerzydziewierz/mict.git /tmp/pip-install-e6j5x3d_/mict_2e6163b385c344a7b68c9d6ffaca1ace\n",
            "  Resolved https://github.com/jerzydziewierz/mict.git to commit dd2c270975b8ada4d962738b69a391669f8bdcb0\n",
            "  Installing build dependencies ... \u001b[?25l\u001b[?25hdone\n",
            "  Getting requirements to build wheel ... \u001b[?25l\u001b[?25hdone\n",
            "  Preparing metadata (pyproject.toml) ... \u001b[?25l\u001b[?25hdone\n",
            "Collecting dill (from mict)\n",
            "  Downloading dill-0.3.6-py3-none-any.whl (110 kB)\n",
            "\u001b[2K     \u001b[90m━━━━━━━━━━━━━━━━━━━━━━━━━━━━━━━━━━━━━━━\u001b[0m \u001b[32m110.5/110.5 kB\u001b[0m \u001b[31m4.6 MB/s\u001b[0m eta \u001b[36m0:00:00\u001b[0m\n",
            "\u001b[?25hRequirement already satisfied: numpy in /usr/local/lib/python3.10/dist-packages (from mict) (1.22.4)\n",
            "Requirement already satisfied: requests in /usr/local/lib/python3.10/dist-packages (from mict) (2.27.1)\n",
            "Requirement already satisfied: urllib3<1.27,>=1.21.1 in /usr/local/lib/python3.10/dist-packages (from requests->mict) (1.26.16)\n",
            "Requirement already satisfied: certifi>=2017.4.17 in /usr/local/lib/python3.10/dist-packages (from requests->mict) (2023.5.7)\n",
            "Requirement already satisfied: charset-normalizer~=2.0.0 in /usr/local/lib/python3.10/dist-packages (from requests->mict) (2.0.12)\n",
            "Requirement already satisfied: idna<4,>=2.5 in /usr/local/lib/python3.10/dist-packages (from requests->mict) (3.4)\n",
            "Building wheels for collected packages: mict\n",
            "  Building wheel for mict (pyproject.toml) ... \u001b[?25l\u001b[?25hdone\n",
            "  Created wheel for mict: filename=mict-0.0.41-py3-none-any.whl size=7997 sha256=9bc85b46e65be92f0448bcc060feed297a402bcc58e8009d856a0b7a19d7ca80\n",
            "  Stored in directory: /tmp/pip-ephem-wheel-cache-i7jxj9ut/wheels/c5/b1/40/4c727cd22f94ce6f9be630eed4035b77f9b99823cbf453e2c3\n",
            "Successfully built mict\n",
            "Installing collected packages: dill, mict\n",
            "Successfully installed dill-0.3.6 mict-0.0.41\n"
          ]
        }
      ],
      "source": [
        "!python -m pip install -U git+https://github.com/jerzydziewierz/mict.git#egg=mict"
      ]
    },
    {
      "cell_type": "code",
      "source": [
        "from mict import mict"
      ],
      "metadata": {
        "id": "OzhjefjThz6B"
      },
      "execution_count": null,
      "outputs": []
    },
    {
      "cell_type": "code",
      "source": [
        "from functools import reduce\n",
        "import numpy"
      ],
      "metadata": {
        "id": "6reojYsgXyjR"
      },
      "execution_count": null,
      "outputs": []
    },
    {
      "cell_type": "markdown",
      "source": [
        "# FAF ECO\n",
        "\n",
        "this will simulate the economics of game: \"Supreme commander Forged Alliance Forever\"\n",
        "with the express intent to figure out what is the fastest way to build a specific game-ender, e.g. mavor\n",
        "\n",
        "the concept is as follows:\n",
        "for each second:\n",
        "* Building:\n",
        "  * Sum the total build power, mass income, energy income\n",
        "  * if build build is not finished, continue to build\n",
        "  * if build is finished, select a new unit to build\n",
        "\n",
        "\n",
        "Unit types. Data from the \"FAF Launcher\", UEF:\n",
        "reference: https://faforever.github.io/spooky-db/#/\n",
        "\n",
        "\n",
        "| Name | cost-buildpower | cost-mass | cost-energy | provides-buildpower | provides-mass | provides-energy |\n",
        "| -- | -- | -- | -- | -- | -- | -- |\n",
        "| COM | 0 | 0 | 0 | 10 | 1 | 20 |\n",
        "| Factory T1 | ? | ? | ? | ? | ? | ? |\n",
        "| Factory T2 | ? | ? | ? | ? | ? | ? |\n",
        "| Factory T3 | ? | ? | ? | ? | ? | ? |\n",
        "| Builder T1 | 260 | 52 | 260 | 5 | 0 | 0 |\n",
        "| Builder T2 | 650 | 130 | 650 | 13 | 0 | 0 |\n",
        "| Builder Sparky | 1000 | 225 | 1000 | 17.5 | 0 | 0 |\n",
        "| Builder T3 | 1560 | 312 | 1560 | 32.5 | 0 | 0 |\n",
        "| Build tower UEF | 1000 | 525 | 2625 | 20 | 0 | 0 |\n",
        "| Mex T1 | 60 | 36 | 360 | 10 for upgrade only | 2 | -2 |\n",
        "| Mex T2 | 900 | 900 | 5400 | 15 for upgrade only | 6 | 9 |\n",
        "| Mex T3 | 2875 | 4600 | 31625 | 0 | 18 | -54 |\n",
        "| Name | cost-buildpower | cost-mass | cost-energy | provides-buildpower | provides-mass | provides-energy |\n",
        "| Powerplant T1 | 125 | 75 | 750 | 0 | 0 | 20 |\n",
        "| Powerplant T2 | 2198 | 1200 | 12000 | 0 | 0 | 500 |\n",
        "| Powerplant T3 | 6824 | 3240 | 57600 | 0 | 0 | 2500 |\n",
        "| Name | cost-buildpower | cost-mass | cost-energy | provides-buildpower | provides-mass | provides-energy |\n",
        "| MassGen T1 | 500 | 200 | 4000 | 0 | 1 | -100 |\n",
        "| MassGen T2 | 5000 | 4000 | 120000 | 0 | 16 | -1500 |\n",
        "| Name | cost-buildpower | cost-mass | cost-energy | provides-buildpower | provides-mass | provides-energy |\n",
        "| Mavor | 300000 | 224775 | 5.994e6 | 0 | 0 | 0 |\n",
        "| Novax | 44800 | 36000 | 512e3 | 0 | 0 | 0 |\n",
        "The goal is to find the shortest path to building the Mavor.\n",
        "\n"
      ],
      "metadata": {
        "id": "nVz-euzoL3gB"
      }
    },
    {
      "cell_type": "code",
      "source": [
        "log = print\n",
        "\n",
        "class Unit:\n",
        "  def __init__(self):\n",
        "    self.cost_buildpower = None\n",
        "    self.cost_mass = None\n",
        "    self.cost_energy = None\n",
        "    self.provides_buildpower = 0\n",
        "    self.provides_mass = 0\n",
        "    self.provides_energy = 0\n",
        "    self.mass_storage = 0\n",
        "    self.energy_storage = 0\n",
        "\n",
        "  @staticmethod\n",
        "  def name():\n",
        "    return \"unit\"\n",
        "\n",
        "  def can_be_built(unit_list = []) -> bool:\n",
        "    \"\"\"\n",
        "    Takes a list of current units available, and returns True if this can be built.\n",
        "    \"\"\"\n",
        "    return False\n",
        "\n",
        "  def on_build(unit_list = []) -> list:\n",
        "    \"\"\"\n",
        "    when build is complete, takes a list of current units, and returns an updated list.\n",
        "    For example, an unit can be created, converted, or consumed.\n",
        "    \"\"\"\n",
        "    pass\n",
        "\n",
        "  @classmethod\n",
        "  def __str__(cls):\n",
        "    return f'{cls.name()}'\n",
        "\n",
        "  @classmethod\n",
        "  def __repr__(cls):\n",
        "    return f'{cls.name()}'\n",
        "\n",
        "class Com(Unit):\n",
        "\n",
        "  @staticmethod\n",
        "  def name():\n",
        "    return \"com\"\n",
        "\n",
        "  def __init__(self):\n",
        "    super().__init__()\n",
        "    self.cost_buildpower = 0.0\n",
        "    self.cost_mass = 0.0\n",
        "    self.cost_energy = 0.0\n",
        "    self.provides_buildpower = 10.0\n",
        "    self.provides_mass = 1.0\n",
        "    self.provides_energy = 10.0\n",
        "    self.mass_storage = 650\n",
        "    self.energy_storage = 3900\n",
        "\n",
        "  @staticmethod\n",
        "  def can_be_built(unit_list = []) -> bool:\n",
        "    return False\n",
        "\n",
        "  @staticmethod\n",
        "  def on_build(unit_list = []) -> list:\n",
        "    log('MexPlace cannot be built during the game')\n",
        "    assert(False)\n",
        "\n",
        "class Endgame(Unit):\n",
        "\n",
        "  @staticmethod\n",
        "  def name():\n",
        "    return \"endgame\"\n",
        "\n",
        "  def __init__(self):\n",
        "    super().__init__()\n",
        "    self.cost_buildpower = 1.0\n",
        "    self.cost_mass = 0.0\n",
        "    self.cost_energy = 0.0\n",
        "    self.provides_buildpower = 0.0\n",
        "    self.provides_mass = 0.0\n",
        "    self.provides_energy = 00.0\n",
        "\n",
        "  @staticmethod\n",
        "  def can_be_built(unit_list = []) -> bool:\n",
        "    exists = set(unit_list)\n",
        "    to_build_require = {'mavor'}\n",
        "    can_build = to_build_require.intersection(exists) == to_build_require\n",
        "    return can_build\n",
        "\n",
        "  @staticmethod\n",
        "  def on_build(unit_list = []) -> list:\n",
        "    unit_list.append(Endgame())\n",
        "    log('game ended.')\n",
        "    return unit_list\n",
        "\n",
        "class MexPlace(Unit):\n",
        "\n",
        "  @staticmethod\n",
        "  def name():\n",
        "    return \"mexplace\"\n",
        "\n",
        "  def __init__(self):\n",
        "    super().__init__()\n",
        "    self.cost_buildpower = 0.0\n",
        "    self.cost_mass = 0.0\n",
        "    self.cost_energy = 0.0\n",
        "    self.provides_buildpower = 0.0\n",
        "    self.provides_mass = 0.0\n",
        "    self.provides_energy = 00.0\n",
        "\n",
        "  @staticmethod\n",
        "  def can_be_built(unit_list = []) -> bool:\n",
        "    exists = set(unit_list)\n",
        "    to_build_require = {}\n",
        "    can_build = to_build_require.intersection(exists) == to_build_require\n",
        "    return can_build\n",
        "\n",
        "  @staticmethod\n",
        "  def on_build(unit_list = []) -> list:\n",
        "    log('MexPlace cannot be built during the game')\n",
        "    assert(False)\n",
        "\n",
        "\n",
        "class Mavor(Unit):\n",
        "  @staticmethod\n",
        "  def name():\n",
        "    return \"mavor\"\n",
        "\n",
        "  def __init__(self):\n",
        "    super().__init__()\n",
        "    self.cost_buildpower = 300000.0\n",
        "    self.cost_mass = 224775.0\n",
        "    self.cost_energy = 5.994e6\n",
        "    self.provides_buildpower = 0.0\n",
        "    self.provides_mass = 0.0\n",
        "    self.provides_energy = 00.0\n",
        "\n",
        "  @staticmethod\n",
        "  def can_be_built(unit_list = []) -> bool:\n",
        "    exists = set(unit_list)\n",
        "    to_build_require = {'com'}\n",
        "    can_build = to_build_require.intersection(exists) == to_build_require\n",
        "    return can_build\n",
        "\n",
        "  @staticmethod\n",
        "  def on_build(unit_list = []) -> list:\n",
        "    unit_list.append(Mavor())\n",
        "    return unit_list\n",
        "\n",
        "\n",
        "class PowerplantT1(Unit):\n",
        "  @staticmethod\n",
        "  def name():\n",
        "    return \"powerplantT1\"\n",
        "\n",
        "  def __init__(self):\n",
        "    super().__init__()\n",
        "    self.cost_buildpower = 125.0\n",
        "    self.cost_mass = 75.0\n",
        "    self.cost_energy = 750\n",
        "    self.provides_buildpower = 0.0\n",
        "    self.provides_mass = 0.0\n",
        "    self.provides_energy = 20.0\n",
        "\n",
        "  @staticmethod\n",
        "  def can_be_built(unit_list = []) -> bool:\n",
        "    exists = set(unit_list)\n",
        "    to_build_require = {'com'}\n",
        "    can_build = to_build_require.intersection(exists) == to_build_require\n",
        "    return can_build\n",
        "\n",
        "  @staticmethod\n",
        "  def on_build(unit_list = []) -> list:\n",
        "    unit_list.append(PowerplantT1())\n",
        "    return unit_list\n",
        "\n",
        "\n",
        "class MexT1(Unit):\n",
        "  @staticmethod\n",
        "  def name():\n",
        "    return \"mexT1\"\n",
        "\n",
        "  def __init__(self):\n",
        "    super().__init__()\n",
        "    self.cost_buildpower = 60\n",
        "    self.cost_mass = 36\n",
        "    self.cost_energy = 360\n",
        "    self.provides_buildpower = 0.0\n",
        "    self.provides_mass = 2.0\n",
        "    self.provides_energy = -2.0\n",
        "\n",
        "  @staticmethod\n",
        "  def can_be_built(unit_list = []) -> bool:\n",
        "    exists_in_available = set(unit_list)\n",
        "    to_build_require = {'com', 'mexplace'}\n",
        "    # this verifies that all the items that are required, exist in the unit list\n",
        "    can_build = to_build_require.intersection(exists_in_available) == to_build_require\n",
        "    return can_build\n",
        "\n",
        "  @staticmethod\n",
        "  def on_build(unit_list = []) -> list:\n",
        "    # remove one mexplace from the list\n",
        "    is_first_mexplace = True\n",
        "    filtered_list = [item for item in unit_list if not (item.name() == 'mexplace' and is_first_mexplace) or (is_first_mexplace := False)]\n",
        "    filtered_list.append(MexT1())\n",
        "    return filtered_list\n"
      ],
      "metadata": {
        "id": "-0jcmGGCQsBb"
      },
      "execution_count": null,
      "outputs": []
    },
    {
      "cell_type": "code",
      "source": [
        "# note: we will deal with unit instances, not with types, to reduce amount of confusion\n",
        "possible_unit_types = [Com(), Endgame(), MexPlace(), Mavor(), PowerplantT1(), MexT1()]"
      ],
      "metadata": {
        "id": "ncMDCazMovp1"
      },
      "execution_count": null,
      "outputs": []
    },
    {
      "cell_type": "code",
      "source": [
        "possible_unit_types\n",
        "for idx, unit in enumerate(possible_unit_types):\n",
        "  print(idx, unit.name(), unit.provides_energy)"
      ],
      "metadata": {
        "colab": {
          "base_uri": "https://localhost:8080/"
        },
        "id": "YdhkYFjPdwla",
        "outputId": "25c77943-2155-43ce-cd09-27a4b1e3b9b7"
      },
      "execution_count": null,
      "outputs": [
        {
          "output_type": "stream",
          "name": "stdout",
          "text": [
            "0 com 10.0\n",
            "1 endgame 0.0\n",
            "2 mexplace 0.0\n",
            "3 mavor 0.0\n",
            "4 powerplantT1 20.0\n",
            "5 mexT1 -2.0\n"
          ]
        }
      ]
    },
    {
      "cell_type": "code",
      "source": [
        "def unit_name_list(unit_list: list = []) -> list:\n",
        "  return [unit.name() for unit in unit_list]\n",
        "\n",
        "def unit_type_from_name(unit_name = None):\n",
        "  if unit_name is None:\n",
        "    raise ValueError('cannot convert None to unit type')\n",
        "  unl = unit_name_list(possible_unit_types)\n",
        "  lookup_table = dict(list(zip(unl,possible_unit_types)))\n",
        "  result = lookup_table[unit_name]\n",
        "  return result\n",
        "\n",
        "def test_unit_type_from_name():\n",
        "  unit_type_from_name('com')\n",
        "\n",
        "test_unit_type_from_name()"
      ],
      "metadata": {
        "id": "S-fzcA9pWaOn"
      },
      "execution_count": null,
      "outputs": []
    },
    {
      "cell_type": "code",
      "source": [
        "def test_can_endgame_be_built():\n",
        "  current_unit_list = list()\n",
        "  current_unit_list.append(Com())\n",
        "\n",
        "  for idx in range(8):\n",
        "    current_unit_list.append(MexPlace())\n",
        "\n",
        "  assert(Endgame.can_be_built(unit_name_list(current_unit_list))==False)\n",
        "  current_unit_list.append(Mavor())\n",
        "  assert(Endgame.can_be_built(unit_name_list(current_unit_list))==True)\n",
        "\n",
        "test_can_endgame_be_built()"
      ],
      "metadata": {
        "id": "dcFKzZE0Ss3-"
      },
      "execution_count": null,
      "outputs": []
    },
    {
      "cell_type": "code",
      "source": [
        "def apply_next_buildorder(game_state, unit_to_build) -> mict:\n",
        "  game_state.currently_building = unit_to_build\n",
        "  game_state.currently_building_buildpower_progress = 0\n",
        "  return game_state"
      ],
      "metadata": {
        "id": "w2blfLT-lxbM"
      },
      "execution_count": null,
      "outputs": []
    },
    {
      "cell_type": "code",
      "source": [
        "def select_next_buildorder(game_state: mict = mict(), local_state: mict=mict()):\n",
        "  # this will need to be a bit smart\n",
        "  # for now, I will use an algorithmic approach\n",
        "  # if we can build endgame, do it\n",
        "  # if the\n",
        "  # if we can build a mex on a MexPlace, do it\n",
        "  # then,\n",
        "  # if there is less T1 powerplants than mexes of any kind, build T1 powerplant\n",
        "  # then,\n",
        "  # build mavor\n",
        "\n",
        "  if Endgame.can_be_built(unit_name_list(game_state.current_unit_list)):\n",
        "    return Endgame()\n",
        "\n",
        "  if MexT1.can_be_built(unit_name_list(game_state.current_unit_list)):\n",
        "    if local_state.energy_production_capability>5: # but do not build if there is not enough power.\n",
        "      return MexT1()\n",
        "\n",
        "  if local_state.energy_production_capability < 50:\n",
        "    return PowerplantT1()\n",
        "  else:\n",
        "    return Mavor()\n",
        "  # at this point, something must be selected.\n",
        "  assert(False)"
      ],
      "metadata": {
        "id": "Dvpd4ilyahN4"
      },
      "execution_count": null,
      "outputs": []
    },
    {
      "cell_type": "code",
      "source": [
        "def test_select_next_buildorder():\n",
        "  assert(\"mavor\" == str(select_next_buildorder(game_state=mict(current_unit_list=[]), local_state=mict(energy_production_capability=30000))))\n",
        "  assert(\"powerplantT1\" == str(select_next_buildorder(game_state=mict(current_unit_list=[]), local_state=mict(energy_production_capability=30))))\n",
        "  assert(isinstance(select_next_buildorder(game_state=mict(current_unit_list=[Mavor()]), local_state=mict(energy_production_capability=30)), Endgame))\n",
        "test_select_next_buildorder()"
      ],
      "metadata": {
        "id": "ytjezJRZhA4W"
      },
      "execution_count": null,
      "outputs": []
    },
    {
      "cell_type": "code",
      "source": [
        "def sum(x,y):\n",
        "  return x+y"
      ],
      "metadata": {
        "id": "XmvyJK1Qtsc9"
      },
      "execution_count": null,
      "outputs": []
    },
    {
      "cell_type": "code",
      "source": [
        "def init_game_state():\n",
        "  game_state = mict()\n",
        "  game_state.current_unit_list = list()\n",
        "\n",
        "  game_state.idx_gamecycle=0\n",
        "  # add a com.\n",
        "  game_state.current_unit_list.append(Com())\n",
        "  # add 8 mex places - this simulates \"dual gap\" map.\n",
        "  for idx in range(8):\n",
        "    game_state.current_unit_list.append(MexPlace())\n",
        "\n",
        "  # at first, nothing is building.\n",
        "  game_state.currently_building = None\n",
        "  game_state.currently_building_buildpower_progress = 0\n",
        "\n",
        "  # init bank.\n",
        "\n",
        "  game_state.energy_bank = 0\n",
        "  game_state.mass_bank = 0\n",
        "  game_state.energy_wasted = 0\n",
        "  game_state.mass_wasted = 0\n",
        "\n",
        "  # the game starts with \"full bank\". Although, I observe that in the real game, the starting energy is 4000, not just Com's 3600.\n",
        "\n",
        "  # game initializes with full bank:\n",
        "  game_state.mass_bank = Com().mass_storage\n",
        "  game_state.energy_bank = Com().energy_storage\n",
        "  return game_state\n",
        "\n",
        "log_cycle = False"
      ],
      "metadata": {
        "id": "rPZeoIVyNTaX"
      },
      "execution_count": null,
      "outputs": []
    },
    {
      "cell_type": "code",
      "source": [
        "def game_turn(game_state: mict = None) -> mict:\n",
        "\n",
        "  return game_state\n",
        "\n",
        "game_state = init_game_state()"
      ],
      "metadata": {
        "id": "9dopUMRcNLml"
      },
      "execution_count": null,
      "outputs": []
    },
    {
      "cell_type": "code",
      "source": [
        "for idx_minicycle in range(10000):\n",
        "  idx_gamecycle +=1\n",
        "  # add energy and mass to the bank, up to the capacity\n",
        "  mass_production_capability = reduce(sum, [unit.provides_mass for unit in game_state.current_unit_list])\n",
        "  energy_production_capability = reduce(sum, [unit.provides_energy for unit in game_state.current_unit_list])\n",
        "  build_power_capability = reduce(sum, [unit.provides_buildpower for unit in game_state.current_unit_list])\n",
        "\n",
        "  mass_storage_capacity = reduce(sum, [unit.mass_storage for unit in game_state.current_unit_list])\n",
        "  energy_storage_capacity = reduce(sum, [unit.energy_storage for unit in game_state.current_unit_list])\n",
        "\n",
        "\n",
        "  game_state.mass_bank = game_state.mass_bank + mass_production_capability\n",
        "  game_state.mass_wasted = game_state.mass_wasted + numpy.maximum(0,game_state.mass_bank-mass_storage_capacity);\n",
        "  game_state.mass_bank = numpy.minimum(mass_storage_capacity,game_state.mass_bank)\n",
        "\n",
        "  game_state.energy_bank = game_state.energy_bank + energy_production_capability\n",
        "  game_state.energy_wasted = game_state.energy_wasted + numpy.maximum(0.0,game_state.energy_bank-energy_storage_capacity)\n",
        "  game_state.energy_bank = numpy.minimum(energy_storage_capacity,game_state.energy_bank)\n",
        "\n",
        "  local_state = mict.from_locals()\n",
        "\n",
        "  # if not building, continue:\n",
        "  if game_state.currently_building is None:\n",
        "    next_unit = select_next_buildorder(game_state, local_state)\n",
        "    game_state = apply_next_buildorder(game_state, next_unit)\n",
        "    log_cycle = True\n",
        "\n",
        "  # approach:\n",
        "  # given current build power, energy_bank, mass_bank\n",
        "  # how much build power can be spent?\n",
        "  # note that this does not come from the game's source code, but rather, is my recreation according to the observations.\n",
        "  # it appears to function correctly.\n",
        "  mass_per_bp = game_state.currently_building.cost_mass / game_state.currently_building.cost_buildpower\n",
        "  energy_per_bp  = game_state.currently_building.cost_energy / game_state.currently_building.cost_buildpower\n",
        "\n",
        "  mass_spend_proposal = build_power_capability * mass_per_bp\n",
        "  energy_spend_proposal = build_power_capability * energy_per_bp\n",
        "\n",
        "  bank_limited_mass_spend = numpy.minimum(mass_spend_proposal,game_state.mass_bank)\n",
        "  bank_limited_energy_spend = numpy.minimum(energy_spend_proposal,game_state.energy_bank)\n",
        "\n",
        "  bp_mass_spend_limited = bank_limited_mass_spend / mass_per_bp\n",
        "  bp_energy_spend_limited = bank_limited_energy_spend / energy_per_bp\n",
        "\n",
        "  actual_bp_usable = numpy.minimum(bp_mass_spend_limited,bp_energy_spend_limited)\n",
        "\n",
        "  actual_mass_used = actual_bp_usable * mass_per_bp\n",
        "  actual_energy_used = actual_bp_usable * energy_per_bp\n",
        "\n",
        "  # apply\n",
        "  game_state.currently_building_buildpower_progress+=actual_bp_usable\n",
        "  game_state.mass_bank -= actual_mass_used\n",
        "  game_state.energy_bank -= actual_energy_used\n",
        "\n",
        "  # if build finished:\n",
        "  if game_state.currently_building_buildpower_progress > game_state.currently_building.cost_buildpower:\n",
        "    game_state.current_unit_list = game_state.currently_building.on_build(game_state.current_unit_list)\n",
        "    game_state.currently_building = None\n",
        "    build_cycles_remaining_estimate = numpy.nan\n",
        "  else:\n",
        "    build_cycles_remaining_estimate = (game_state.currently_building.cost_buildpower-game_state.currently_building_buildpower_progress)/actual_bp_usable\n",
        "\n",
        "\n",
        "  if (idx_gamecycle % 1000 == 0) and game_state.currently_building is not None:\n",
        "    log_cycle = True\n",
        "\n",
        "  if log_cycle:\n",
        "    log(f'cycle {idx_gamecycle} : building {game_state.currently_building} ({game_state.currently_building_buildpower_progress:0.0f} @ {actual_bp_usable:0.0f} : {build_cycles_remaining_estimate:0.0f}),  PC={energy_production_capability:+0.0f}/{mass_production_capability:+0.0f}/{build_power_capability:+0.0f}, bank = {game_state.energy_bank:0.0f}/{game_state.mass_bank:0.0f}')\n",
        "    log_cycle = False\n",
        "\n",
        "  # estimate stats\n",
        "\n",
        "\n",
        "\n"
      ],
      "metadata": {
        "colab": {
          "base_uri": "https://localhost:8080/"
        },
        "id": "wgbm4iFvXRpQ",
        "outputId": "94efbcfa-0e4b-43f5-c3ca-2cb7152ff28d"
      },
      "execution_count": null,
      "outputs": [
        {
          "output_type": "stream",
          "name": "stdout",
          "text": [
            "cycle 20001 : building mexT1 (10 @ 10 : 5),  PC=+10/+1/+10, bank = 3840/644\n",
            "cycle 20008 : building mexT1 (10 @ 10 : 5),  PC=+8/+3/+10, bank = 3488/611\n",
            "cycle 20015 : building mexT1 (10 @ 10 : 5),  PC=+6/+5/+10, bank = 3122/592\n",
            "cycle 20022 : building powerplantT1 (10 @ 10 : 12),  PC=+4/+7/+10, bank = 2742/587\n",
            "cycle 20035 : building mexT1 (10 @ 10 : 5),  PC=+24/+7/+10, bank = 2034/600\n",
            "cycle 20042 : building mexT1 (10 @ 10 : 5),  PC=+22/+9/+10, bank = 1780/609\n",
            "cycle 20049 : building mexT1 (10 @ 10 : 5),  PC=+20/+11/+10, bank = 1512/632\n",
            "cycle 20056 : building mexT1 (10 @ 10 : 5),  PC=+18/+13/+10, bank = 1230/644\n",
            "cycle 20063 : building mexT1 (10 @ 10 : 5),  PC=+16/+15/+10, bank = 934/644\n",
            "cycle 20070 : building powerplantT1 (10 @ 10 : 12),  PC=+14/+17/+10, bank = 624/644\n",
            "cycle 20083 : building powerplantT1 (10 @ 10 : 12),  PC=+34/+17/+10, bank = 46/644\n",
            "cycle 20103 : building mavor (3 @ 3 : 110999),  PC=+54/+17/+10, bank = 0/648\n",
            "cycle 21000 : building mavor (2427 @ 3 : 110102),  PC=+54/+17/+10, bank = 0/648\n",
            "cycle 22000 : building mavor (5130 @ 3 : 109102),  PC=+54/+17/+10, bank = 0/648\n",
            "cycle 23000 : building mavor (7832 @ 3 : 108102),  PC=+54/+17/+10, bank = 0/648\n",
            "cycle 24000 : building mavor (10535 @ 3 : 107102),  PC=+54/+17/+10, bank = 0/648\n",
            "cycle 25000 : building mavor (13238 @ 3 : 106102),  PC=+54/+17/+10, bank = 0/648\n",
            "cycle 26000 : building mavor (15941 @ 3 : 105102),  PC=+54/+17/+10, bank = 0/648\n",
            "cycle 27000 : building mavor (18643 @ 3 : 104102),  PC=+54/+17/+10, bank = 0/648\n",
            "cycle 28000 : building mavor (21346 @ 3 : 103102),  PC=+54/+17/+10, bank = 0/648\n",
            "cycle 29000 : building mavor (24049 @ 3 : 102102),  PC=+54/+17/+10, bank = 0/648\n",
            "cycle 30000 : building mavor (26751 @ 3 : 101102),  PC=+54/+17/+10, bank = 0/648\n"
          ]
        }
      ]
    },
    {
      "cell_type": "code",
      "source": [
        "current_unit_list_names"
      ],
      "metadata": {
        "id": "BlQDbMmzV0jU"
      },
      "execution_count": null,
      "outputs": []
    }
  ]
}